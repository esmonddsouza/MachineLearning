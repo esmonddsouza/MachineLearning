{
  "nbformat": 4,
  "nbformat_minor": 0,
  "metadata": {
    "colab": {
      "name": "mlAssignment1.ipynb",
      "provenance": [],
      "collapsed_sections": []
    },
    "kernelspec": {
      "name": "python3",
      "display_name": "Python 3"
    }
  },
  "cells": [
    {
      "cell_type": "markdown",
      "metadata": {
        "id": "Iijw9kdd9C8b",
        "colab_type": "text"
      },
      "source": [
        "Importing all libraries and reading the training and test data into dataframes."
      ]
    },
    {
      "cell_type": "code",
      "metadata": {
        "id": "SxIXUNcL8ELW",
        "colab_type": "code",
        "colab": {}
      },
      "source": [
        "\"\"\"\n",
        "Created on Tue Sep 17 22:40:02 2019\n",
        "@author: Esmond Dsouza\n",
        "\"\"\"\n",
        "\n",
        "import pandas as pd\n",
        "import numpy as np\n",
        "import matplotlib.pyplot as plt  \n",
        "from sklearn import preprocessing\n",
        "\n",
        "mainData = pd.read_csv(\"/content/drive/My Drive/Machine Learning/tcdMainData.csv\")\n",
        "predictionData = pd.read_csv(\"/content/drive/My Drive/Machine Learning/tcd ml 2019-20 income prediction test (without labels).csv\")"
      ],
      "execution_count": 0,
      "outputs": []
    },
    {
      "cell_type": "markdown",
      "metadata": {
        "id": "WYTNinVg9UJE",
        "colab_type": "text"
      },
      "source": [
        "Filling all the blank values of income to 0 in the prediction data which will be used in concatenation and splitting."
      ]
    },
    {
      "cell_type": "code",
      "metadata": {
        "id": "CDYDgWik9WHN",
        "colab_type": "code",
        "colab": {}
      },
      "source": [
        "predictionData['Income'] = predictionData['Income'].replace(np.nan, 0)"
      ],
      "execution_count": 0,
      "outputs": []
    },
    {
      "cell_type": "markdown",
      "metadata": {
        "id": "FX5_41zS9qxT",
        "colab_type": "text"
      },
      "source": [
        "Renaming the column to match the column name as in the prediction data."
      ]
    },
    {
      "cell_type": "code",
      "metadata": {
        "id": "pP9SMhjF9pR3",
        "colab_type": "code",
        "colab": {}
      },
      "source": [
        "mainData.rename(columns={'Income in EUR':'Income'}, inplace=True)"
      ],
      "execution_count": 0,
      "outputs": []
    },
    {
      "cell_type": "markdown",
      "metadata": {
        "id": "eKRRz7RX91e1",
        "colab_type": "text"
      },
      "source": [
        "Checking if rows have 3 or more Nan values and dropping those rows."
      ]
    },
    {
      "cell_type": "code",
      "metadata": {
        "id": "tnsqTORG8JW7",
        "colab_type": "code",
        "colab": {}
      },
      "source": [
        "#dropping al rows that have 3 or more NaN values\n",
        "indexOfNaNRows = []\n",
        "for i in range(len(mainData.index)):\n",
        "    NaNCount = mainData.iloc[i].isnull().sum()\n",
        "    if NaNCount >= 3:\n",
        "        indexOfNaNRows.append(i)\n",
        "mainData.drop(index=indexOfNaNRows, axis=0, inplace=True)"
      ],
      "execution_count": 0,
      "outputs": []
    },
    {
      "cell_type": "markdown",
      "metadata": {
        "id": "K7lESQGv-Dag",
        "colab_type": "text"
      },
      "source": [
        "Concatenating both the training and prediction dataframe and encoding all the string values to numbers. Both the dataframes (training and prediction) are concatenated so that the encoding are in sync."
      ]
    },
    {
      "cell_type": "code",
      "metadata": {
        "id": "kcYmWIhA8Tl5",
        "colab_type": "code",
        "colab": {}
      },
      "source": [
        "#concatenating the training and prediction data \n",
        "mainData.fillna(method = 'bfill', inplace=True)\n",
        "combinedData = pd.concat([mainData, predictionData])"
      ],
      "execution_count": 0,
      "outputs": []
    },
    {
      "cell_type": "markdown",
      "metadata": {
        "id": "1JTR2iwIAFVo",
        "colab_type": "text"
      },
      "source": [
        "Filling up all the NaN values."
      ]
    },
    {
      "cell_type": "code",
      "metadata": {
        "id": "AM8W2qwUAIKL",
        "colab_type": "code",
        "colab": {}
      },
      "source": [
        "combinedData['Gender'] = combinedData['Gender'].apply(lambda x: 'other' if x !='male' and x !='female' else x)\n",
        "combinedData['University Degree'] = combinedData['University Degree'].apply(lambda x: 'No' if x !='Master' and x !='Bachelor' and x != 'PhD' else x)\n",
        "combinedData['Hair Color'] = combinedData['Hair Color'].apply(lambda x: 'Other' if x !='Black' and x !='Brown' and x != 'Blonde' and x != 'Red' else x)\n",
        "combinedData['Profession'] = combinedData['Profession'].replace(np.nan, 'other')"
      ],
      "execution_count": 0,
      "outputs": []
    },
    {
      "cell_type": "markdown",
      "metadata": {
        "id": "B95_TQ-yAvEA",
        "colab_type": "text"
      },
      "source": [
        "Binning all non-categoral numeric columns."
      ]
    },
    {
      "cell_type": "code",
      "metadata": {
        "id": "4rbVezh_A2i3",
        "colab_type": "code",
        "colab": {}
      },
      "source": [
        "#binning process for integer columns \n",
        "ageBins = [0, 5, 10, 15, 20, 25, 30, 35, 40, 45, 50, 55, 60, 65, 70, 75, 80, 85, 90, 95, 100]\n",
        "ageBinLabels = ['A', 'B', 'C', 'D', 'E', 'F', 'G', 'H', 'I', 'J', 'K', 'L', 'M', 'N', 'O', 'P', 'Q', 'R', 'S', 'T']\n",
        "combinedData['Age'] = pd.cut(combinedData['Age'], bins=ageBins, labels=ageBinLabels)\n",
        "yearBins = [1980, 1985, 1990, 1995, 2000, 2005, 2010, 2015, 2020]\n",
        "yearBinLables = ['80-85', '85-90', '90-95', '95-00', '00-05', '05-10', '10-15', '15-20']\n",
        "combinedData['Year of Record'] = pd.cut(combinedData['Year of Record'], bins=yearBins, labels=yearBinLables)"
      ],
      "execution_count": 0,
      "outputs": []
    },
    {
      "cell_type": "markdown",
      "metadata": {
        "id": "2rHdUTtF_2xm",
        "colab_type": "text"
      },
      "source": [
        "Normalizing all the categoral columns using one hot encoding and splitting the pre-processed data back into training and prediction data."
      ]
    },
    {
      "cell_type": "code",
      "metadata": {
        "id": "oP9fn-61_1Vt",
        "colab_type": "code",
        "colab": {}
      },
      "source": [
        "#separating the training and prediction data after pre processing\n",
        "combinedData = pd.get_dummies(combinedData, columns =['Gender', 'Country', 'Profession', 'University Degree', 'Age', 'Year of Record', 'Hair Color', 'Wears Glasses'])\n",
        "combinedData.drop(columns =['Size of City', 'Body Height [cm]'], inplace= True)\n",
        "transformedMainData = combinedData[combinedData.Income != 0]\n",
        "transformedPredictionData = combinedData[combinedData.Income == 0]\n",
        "\n",
        "#preparing the data for test splitting\n",
        "X_transformedMainData = transformedMainData.drop(['Income', 'Instance'], axis=1)\n",
        "Y_transformedMainData = transformedMainData['Income']\n",
        "X_transformedPredictionData = transformedPredictionData.drop(['Income'], axis=1)"
      ],
      "execution_count": 0,
      "outputs": []
    },
    {
      "cell_type": "markdown",
      "metadata": {
        "id": "NEhsAzmSBdYe",
        "colab_type": "text"
      },
      "source": [
        "Splitting the training data into training and testing data from model evaluation."
      ]
    },
    {
      "cell_type": "code",
      "metadata": {
        "id": "eBfZEW2R8VvN",
        "colab_type": "code",
        "colab": {}
      },
      "source": [
        "#splitting sample data into training and test data\n",
        "from sklearn.model_selection import train_test_split\n",
        "X_train, X_test, Y_train, Y_test = train_test_split(X_transformedMainData, Y_transformedMainData, test_size = 0.20)"
      ],
      "execution_count": 0,
      "outputs": []
    },
    {
      "cell_type": "markdown",
      "metadata": {
        "id": "0B2e7P72BkDT",
        "colab_type": "text"
      },
      "source": [
        "Training and predicting the Bayesian Ridge Regression model to predict the outcome. Evaluating the model."
      ]
    },
    {
      "cell_type": "code",
      "metadata": {
        "id": "7ASIcm8j8YYH",
        "colab_type": "code",
        "outputId": "f8123a29-75d5-4b02-f95d-28942dcaa8a1",
        "colab": {
          "base_uri": "https://localhost:8080/",
          "height": 89
        }
      },
      "source": [
        "from sklearn import linear_model\n",
        "trainingRegressor = linear_model.BayesianRidge(alpha_1=1e-07, alpha_2=1e-07, compute_score=False, copy_X=True,\n",
        "       fit_intercept=True, lambda_1=1e-07, lambda_2=1e-07, n_iter=300,\n",
        "       normalize=True, tol=0.001, verbose=True)\n",
        "trainingRegressor.fit(X_train, Y_train)\n",
        "Y_pred = trainingRegressor.predict(X_test)\n",
        "df = pd.DataFrame({'Test': Y_test, 'Prediction': Y_pred})\n",
        "print('Root Mean Squared Error', np.sqrt(metrics.mean_squared_error(Y_test, Y_pred)))"
      ],
      "execution_count": 0,
      "outputs": [
        {
          "output_type": "stream",
          "text": [
            "Root Mean Squared Error 83789.15400763242\n"
          ],
          "name": "stdout"
        },
        {
          "output_type": "stream",
          "text": [
            "/usr/local/lib/python3.6/dist-packages/sklearn/linear_model/coordinate_descent.py:475: ConvergenceWarning: Objective did not converge. You might want to increase the number of iterations. Duality gap: 238148993414547.16, tolerance: 200949541146.74457\n",
            "  positive)\n"
          ],
          "name": "stderr"
        }
      ]
    },
    {
      "cell_type": "markdown",
      "metadata": {
        "id": "RaHuDdqGB0tZ",
        "colab_type": "text"
      },
      "source": [
        "Plotting the graph of predicted and actual income based on the trained labled data."
      ]
    },
    {
      "cell_type": "code",
      "metadata": {
        "id": "fiJhTf6R8lsb",
        "colab_type": "code",
        "outputId": "705498f3-ba6a-4d96-ffea-8062b92858af",
        "colab": {
          "base_uri": "https://localhost:8080/",
          "height": 643
        }
      },
      "source": [
        "#plotting the graph for the first 25 values\n",
        "df1 = df.head(25)\n",
        "df1.plot(kind='bar',figsize=(16,10))\n",
        "plt.grid(which='major', linestyle='-', linewidth='0.5', color='green')\n",
        "plt.grid(which='minor', linestyle=':', linewidth='0.5', color='black')\n",
        "plt.show()"
      ],
      "execution_count": 0,
      "outputs": [
        {
          "output_type": "display_data",
          "data": {
            "image/png": "[encoded data removed]",
            "text/plain": [
              "<Figure size 1152x720 with 1 Axes>"
            ]
          },
          "metadata": {
            "tags": []
          }
        }
      ]
    },
    {
      "cell_type": "markdown",
      "metadata": {
        "id": "dtZfOXddCBKL",
        "colab_type": "text"
      },
      "source": [
        "Training the model with the actual (entire) training data and predicting the required outcome. Writing the output into a csv."
      ]
    },
    {
      "cell_type": "code",
      "metadata": {
        "id": "_aQdr97qB_UX",
        "colab_type": "code",
        "outputId": "686b5861-aac9-4da1-9a55-18e26bd8fdf9",
        "colab": {
          "base_uri": "https://localhost:8080/",
          "height": 72
        }
      },
      "source": [
        "#training model with all the data\n",
        "regressor = linear_model.BayesianRidge(alpha_1=1e-06, alpha_2=1e-06, compute_score=False, copy_X=True,\n",
        "       fit_intercept=True, lambda_1=1e-06, lambda_2=1e-06, n_iter=300,\n",
        "       normalize=True, tol=0.001, verbose=True)  \n",
        "regressor.fit(X_transformedMainData, Y_transformedMainData)\n",
        "\n",
        "#predicting the actual data\n",
        "Y_trasnformedPredictionData = regressor.predict(X_transformedPredictionData.drop(['Instance'], axis=1));\n",
        "finalPredictionSheet = pd.DataFrame({'Instance': X_transformedPredictionData['Instance'], 'Income': Y_trasnformedPredictionData})\n",
        "finalPredictionSheet.to_csv('/content/drive/My Drive/Machine Learning/predictedData.csv', index = None, header=True)"
      ],
      "execution_count": 0,
      "outputs": [
        {
          "output_type": "stream",
          "text": [
            "/usr/local/lib/python3.6/dist-packages/sklearn/linear_model/coordinate_descent.py:475: ConvergenceWarning: Objective did not converge. You might want to increase the number of iterations. Duality gap: 297078681565481.6, tolerance: 251161637370.18842\n",
            "  positive)\n"
          ],
          "name": "stderr"
        }
      ]
    }
  ]
}